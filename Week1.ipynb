{
 "cells": [
  {
   "cell_type": "code",
   "execution_count": null,
   "metadata": {
    "collapsed": true
   },
   "outputs": [],
   "source": [
    "import gc\n",
    "import re\n",
    "import unidecode\n",
    "import geonamescache\n",
    "\n",
    "headline_file = open('headlines.txt', 'r')\n",
    "headlines = [line.strip()\n",
    "             for line in headline_file.readlines()]\n",
    "num_headlines = len(headlines)\n",
    "print(f\"{num_headlines} headlines have been loaded\")\n",
    "\n",
    "\n",
    "def name_to_regex(name):\n",
    "    decoded_name = unidecode\n",
    "    if name != decoded_name:\n",
    "        regex = fr'\\b({name} | {decoded_name})\\b'\n",
    "    else:\n",
    "        regex = fr'\\b{name}\\b'\n",
    "    return re.compile(regex, flags=re.IGNORECASE)\n",
    "\n",
    "\n",
    "countries = [country['name'] for country in gc.get_countries().values()]\n",
    "country_to_name = {name_to_regex(name): name for name in countries}\n",
    "\n",
    "cities = [city['name'] for city in gc.get_cities().values()]\n",
    "city_to_name = {name_to_regex(name): name for name in cities}\n",
    "\n",
    "\n",
    "def get_name_in_text(text, dictionary):\n",
    "    for regex, name in sorted(dictionary.items(), key=lambda x: x[1]):\n",
    "        if regex.search(text):\n",
    "            return name\n",
    "    return None\n"
   ]
  }
 ],
 "metadata": {
  "kernelspec": {
   "display_name": "Python 3",
   "language": "python",
   "name": "python3"
  },
  "language_info": {
   "codemirror_mode": {
    "name": "ipython",
    "version": 2
   },
   "file_extension": ".py",
   "mimetype": "text/x-python",
   "name": "python",
   "nbconvert_exporter": "python",
   "pygments_lexer": "ipython2",
   "version": "2.7.6"
  }
 },
 "nbformat": 4,
 "nbformat_minor": 0
}